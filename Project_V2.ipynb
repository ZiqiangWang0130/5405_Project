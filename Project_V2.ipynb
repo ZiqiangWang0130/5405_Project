{
 "cells": [
  {
   "cell_type": "code",
   "execution_count": 120,
   "metadata": {},
   "outputs": [],
   "source": [
    "import pandas as pd \n",
    "import seaborn as sns\n",
    "import numpy as np\n",
    "import matplotlib.pyplot as plt\n",
    "import scipy\n",
    "from scipy.spatial.distance import cdist\n",
    "import sklearn \n",
    "from sklearn.cluster import KMeans\n",
    "from sklearn.model_selection import train_test_split\n",
    "from sklearn.feature_selection import mutual_info_classif, SelectKBest\n",
    "import xgboost as xgb\n",
    "from xgboost import XGBClassifier, plot_importance\n",
    "\n",
    "train_split = pd.read_csv('subsplit_train_data.csv')\n",
    "train_split = train_split.drop('KIBA', axis = 1)\n",
    "train, test = sklearn.model_selection.train_test_split(train_split, test_size=.25, random_state=42, shuffle=True, stratify=train_split['Label'])\n",
    "\n",
    "#corr = train.corr()"
   ]
  },
  {
   "cell_type": "code",
   "execution_count": 93,
   "metadata": {},
   "outputs": [],
   "source": [
    "# Feature Selection \n",
    "X = train.drop('Label', axis = 1)\n",
    "y = train['Label']\n",
    "\n",
    "k_best = SelectKBest(mutual_info_classif, k=50) # might want to update feature selection method / change k val\n",
    "train_fs = k_best.fit(X, y)\n",
    "cols = k_best.get_support(indices=True)\n",
    "train_fs = train.iloc[:,cols]"
   ]
  },
  {
   "cell_type": "code",
   "execution_count": 94,
   "metadata": {},
   "outputs": [],
   "source": [
    "# Outlier Removal \n",
    "\n",
    "# box plot pre-OR ?\n",
    "preOL_mean = train_fs.mean()\n",
    "preOL_med = train_fs.median()\n",
    "\n",
    "Q1 = train_fs.quantile(0.25)\n",
    "Q3 = train_fs.quantile(0.75)\n",
    "\n",
    "IQR = Q3-Q1\n",
    "\n",
    "# this sets outliers to Nan\n",
    "# train_or=train_fs[~((train_fs<(Q1-1.5*IQR)) | (train_fs>(Q3+1.5*IQR)))]\n",
    "\n",
    "# this relaces outliers with the corresponding bound \n",
    "train_or=train_fs[(train_fs>(Q1-1.5*IQR))]\n",
    "train_or = train_or.fillna(Q1-1.5*IQR)\n",
    "train_or = train_or[(train_fs<(Q3+1.5*IQR))]\n",
    "train_or = train_or.fillna(Q3+1.5*IQR)\n",
    "\n",
    "postOL_mean = train_or.mean()\n",
    "postOL_med = train_or.median()\n",
    "# box plot post OR ?\n",
    "\n",
    "OLdescriptor_frames = [preOL_mean, preOL_med, postOL_mean, postOL_med]\n",
    "OLdescriptor_names = ['preOL_mean', 'preOL_med', 'postOL_mean', 'postOL_med']\n",
    "\n",
    "OLdescriptor = pd.concat(OLdescriptor_frames, axis = 1)\n",
    "OLdescriptor.columns = OLdescriptor_names\n",
    "#print(OLdescriptor)"
   ]
  },
  {
   "cell_type": "code",
   "execution_count": 95,
   "metadata": {},
   "outputs": [],
   "source": [
    "# Normalization \n",
    "\n",
    "# min max normalization \n",
    "train_mmnorm = train_or\n",
    "for column in train_mmnorm.columns:\n",
    "    col = train_mmnorm[column]\n",
    "    num = col - col.min()\n",
    "    denom = col.max()-col.min()\n",
    "    train_mmnorm[column] = num/denom\n",
    "#print(train_mmnorm)\n",
    "\n",
    "# z-score normalization \n",
    "#train_znorm = train_or\n",
    "#for column in train_znorm.columns:\n",
    "#    col = train_znorm[column]\n",
    "#    num = col - col.mean()\n",
    "#    denom = col.std()\n",
    "#    train_znorm[column] = num/denom\n",
    "\n",
    "#print(train_znorm)"
   ]
  },
  {
   "cell_type": "code",
   "execution_count": 96,
   "metadata": {},
   "outputs": [
    {
     "data": {
      "image/png": "[encoded data removed]",
      "text/plain": [
       "<Figure size 432x288 with 1 Axes>"
      ]
     },
     "metadata": {
      "needs_background": "light"
     },
     "output_type": "display_data"
    },
    {
     "data": {
      "image/png": "[encoded data removed]",
      "text/plain": [
       "<Figure size 432x288 with 1 Axes>"
      ]
     },
     "metadata": {
      "needs_background": "light"
     },
     "output_type": "display_data"
    }
   ],
   "source": [
    "# elbow plot 2 find k \n",
    "# adapted from : https://www.geeksforgeeks.org/elbow-method-for-optimal-value-of-k-in-kmeans/\n",
    "distortion = []\n",
    "inertia = []\n",
    "m1 = {}\n",
    "m2 = {}\n",
    "\n",
    "for k in range(1,10):\n",
    "    kmm = KMeans(n_clusters=k).fit(train_mmnorm)\n",
    "    dist = sum(np.min(cdist(train_mmnorm, kmm.cluster_centers_,'euclidean'), axis=1)) / train_mmnorm.shape[0]\n",
    "    inert = kmm.inertia_\n",
    "    \n",
    "    distortion.append(dist)\n",
    "    m1[k] = dist\n",
    "    \n",
    "    inertia.append(inert)\n",
    "    m2[k] = kmm.inertia_\n",
    "\n",
    "    \n",
    "plt.plot(range(1,10), distortion, 'bx-')\n",
    "plt.xlabel('Values of K')\n",
    "plt.ylabel('Distortion')\n",
    "plt.title('The Elbow Method using Distortion')\n",
    "plt.show()\n",
    "    \n",
    "plt.plot(range(1,10), inertia, 'bx-')\n",
    "plt.xlabel('Values of K')\n",
    "plt.ylabel('Inertia')\n",
    "plt.title('The Elbow Method using Inertia')\n",
    "plt.show()"
   ]
  },
  {
   "cell_type": "code",
   "execution_count": 101,
   "metadata": {},
   "outputs": [],
   "source": [
    "# k means classifier \n",
    "k_means = KMeans(init='k-means++', n_clusters=3, n_init=10) # n_clusters based on elbow plots! \n",
    "km_classiier = k_means.fit(train_mmnorm)\n",
    "\n",
    "km_train = k_means.predict(train_mmnorm)\n",
    "\n",
    "train_cluster = train_mmnorm\n",
    "train_cluster['Cluster'] = list(km_train)\n",
    "train_cluster['Label'] = y # if outliers are handeled differently (dropped) this will break "
   ]
  },
  {
   "cell_type": "code",
   "execution_count": 118,
   "metadata": {},
   "outputs": [
    {
     "name": "stdout",
     "output_type": "stream",
     "text": [
      "[12:45:16] WARNING: ../src/learner.cc:576: \n",
      "Parameters: { \"n_estimators\" } might not be used.\n",
      "\n",
      "  This could be a false alarm, with some parameters getting used by language bindings but\n",
      "  then being mistakenly passed down to XGBoost core, or some parameter actually being used\n",
      "  but getting flagged wrongly here. Please open an issue if you find any such cases.\n",
      "\n",
      "\n",
      "[12:45:16] WARNING: ../src/learner.cc:1115: Starting in XGBoost 1.3.0, the default evaluation metric used with the objective 'binary:logistic' was changed from 'error' to 'logloss'. Explicitly set eval_metric if you'd like to restore the old behavior.\n"
     ]
    }
   ],
   "source": [
    "# train learning algorithm for each cluster\n",
    "\n",
    "cluster1 = train_cluster[train_cluster['Cluster']==0]\n",
    "yc1 = cluster1['Label']\n",
    "Xc1 = cluster1.drop(['Label', 'Cluster'], axis = 1)\n",
    "xgb_c1train = xgb.DMatrix(Xc1, label=yc1)\n",
    "\n",
    "#cluster2 = train_cluster[train_cluster['Cluster']==1]\n",
    "#cluster3 = train_cluster[train_cluster['Cluster']==2]\n",
    "# etc \n",
    "\n",
    "default_params = {'learning_rate': 0.1,\n",
    " 'n_estimators':1000,\n",
    " 'max_depth':4,\n",
    " 'min_child_weight':1,\n",
    " 'min_split_loss':0, #gamma\n",
    " 'subsample':0.8,\n",
    " 'colsample_bytree':0.8,\n",
    " 'objective': 'binary:logistic',\n",
    " 'scale_pos_weight': 0.25,\n",
    " 'seed':42,\n",
    " 'tree_method':'hist'}\n",
    "\n",
    "xgb_c1model = xgb.train(default_params, xgb_c1train)\n",
    "# etc "
   ]
  },
  {
   "cell_type": "code",
   "execution_count": 122,
   "metadata": {},
   "outputs": [],
   "source": [
    "# for test set \n",
    "X = test.drop('Label', axis = 1)\n",
    "y = test['Label']\n",
    "\n",
    "# feature selection fron train\n",
    "test_fs = k_best.fit(X, y)\n",
    "test_fs = train.iloc[:,cols]\n",
    "\n",
    "# outlier replacement using train set \n",
    "#test_or = test_fs[(test_fs>(Q1-1.5*IQR))]\n",
    "#test_or = test_or.fillna(Q1-1.5*IQR)\n",
    "#test_or = test_or[(test_fs<(Q3+1.5*IQR))]\n",
    "#test_or = test_or.fillna(Q3+1.5*IQR)\n",
    "\n",
    "# normalization?\n",
    "# create test_mmnorm\n",
    "\n",
    "km_test = k_means.predict(test_mmnorm)\n",
    "\n",
    "test_cluster = test_mmnorm\n",
    "test_cluster['Cluster'] = list(km_test)\n",
    "test_cluster['Label'] = y\n",
    "\n",
    "cluster1 = test_cluster[test_cluster['Cluster']==0]\n",
    "yc1 = cluster1['Label']\n",
    "Xc1 = cluster1.drop(['Label', 'Cluster'], axis = 1)\n",
    "xgb_c1test = xgb.DMatrix(Xc1, label=yc1)\n",
    "\n",
    "xgb_c1model.predict() \n",
    "#etccccc"
   ]
  },
  {
   "cell_type": "code",
   "execution_count": null,
   "metadata": {},
   "outputs": [],
   "source": []
  }
 ],
 "metadata": {
  "kernelspec": {
   "display_name": "Python 3",
   "language": "python",
   "name": "python3"
  },
  "language_info": {
   "codemirror_mode": {
    "name": "ipython",
    "version": 3
   },
   "file_extension": ".py",
   "mimetype": "text/x-python",
   "name": "python",
   "nbconvert_exporter": "python",
   "pygments_lexer": "ipython3",
   "version": "3.8.10"
  }
 },
 "nbformat": 4,
 "nbformat_minor": 4
}
